{
  "cells": [
    {
      "cell_type": "markdown",
      "metadata": {},
      "source": [
        "# Exploratory Data Analysis (EDA)\n",
        "\n",
        "This notebook contains the exploratory data analysis for the AIAP 21 Technical Assessment.\n",
        "\n",
        "## Overview\n",
        "This notebook will analyze the gas monitoring data to understand patterns, trends, and insights.\n",
        "\n",
        "## Data Source\n",
        "- Database: `data/gas_monitoring.db`\n",
        "- Note: The database file should not be uploaded to the repository\n"
      ]
    },
    {
      "cell_type": "code",
      "execution_count": null,
      "metadata": {},
      "outputs": [],
      "source": [
        "# Import required libraries\n",
        "import pandas as pd\n",
        "import numpy as np\n",
        "import matplotlib.pyplot as plt\n",
        "import seaborn as sns\n",
        "import sqlite3\n",
        "from datetime import datetime\n",
        "\n",
        "# Set up plotting style\n",
        "plt.style.use('seaborn-v0_8')\n",
        "sns.set_palette(\"husl\")\n",
        "\n",
        "print(\"Libraries imported successfully!\")\n"
      ]
    },
    {
      "cell_type": "code",
      "execution_count": null,
      "metadata": {},
      "outputs": [],
      "source": [
        "# Connect to the database\n",
        "db_path = 'data/gas_monitoring.db'\n",
        "conn = sqlite3.connect(db_path)\n",
        "\n",
        "# Get table names\n",
        "cursor = conn.cursor()\n",
        "cursor.execute(\"SELECT name FROM sqlite_master WHERE type='table';\")\n",
        "tables = cursor.fetchall()\n",
        "print(\"Available tables:\", [table[0] for table in tables])\n",
        "\n",
        "# TODO: Load and explore the data based on the actual table structure\n"
      ]
    }
  ],
  "metadata": {
    "language_info": {
      "name": "python"
    }
  },
  "nbformat": 4,
  "nbformat_minor": 2
}
